{
 "cells": [
  {
   "attachments": {},
   "cell_type": "markdown",
   "metadata": {},
   "source": [
    "Create a function that takes three integer arguments (a, b, c) and returns the amount of\n",
    "integers which are of equal value."
   ]
  },
  {
   "cell_type": "code",
   "execution_count": null,
   "metadata": {},
   "outputs": [],
   "source": [
    "def count_equal_integers(a, b, c):\n",
    "    count = 0\n",
    "    \n",
    "    if a == b == c:\n",
    "        count = 3\n",
    "    elif a == b or a == c or b == c:\n",
    "        count = 2\n",
    "    \n",
    "    return count\n"
   ]
  },
  {
   "attachments": {},
   "cell_type": "markdown",
   "metadata": {},
   "source": [
    "Write a function that converts a dictionary into a list of keys-values tuples."
   ]
  },
  {
   "cell_type": "code",
   "execution_count": null,
   "metadata": {},
   "outputs": [],
   "source": [
    "def dict_to_tuples(dictionary):\n",
    "    tuples_list = list(dictionary.items())\n",
    "    return tuples_list\n"
   ]
  },
  {
   "attachments": {},
   "cell_type": "markdown",
   "metadata": {},
   "source": [
    "Write a function that creates a dictionary with each (key, value) pair being the (lower case,\n",
    "upper case) versions of a letter, respectively."
   ]
  },
  {
   "cell_type": "code",
   "execution_count": null,
   "metadata": {},
   "outputs": [],
   "source": [
    "def create_letter_dict():\n",
    "    letter_dict = {}\n",
    "    \n",
    "    for letter in range(97, 123):\n",
    "        lowercase = chr(letter)\n",
    "        uppercase = chr(letter).upper()\n",
    "        letter_dict[lowercase] = uppercase\n",
    "    \n",
    "    return letter_dict\n"
   ]
  },
  {
   "attachments": {},
   "cell_type": "markdown",
   "metadata": {},
   "source": [
    "Write a function, that replaces all vowels in a string with a specified vowel."
   ]
  },
  {
   "cell_type": "code",
   "execution_count": null,
   "metadata": {},
   "outputs": [],
   "source": [
    "def replace_vowels(string, vowel):\n",
    "    vowels = \"aeiouAEIOU\"\n",
    "    replaced_string = \"\"\n",
    "    \n",
    "    for char in string:\n",
    "        if char in vowels:\n",
    "            replaced_string += vowel\n",
    "        else:\n",
    "            replaced_string += char\n",
    "    \n",
    "    return replaced_string\n"
   ]
  },
  {
   "attachments": {},
   "cell_type": "markdown",
   "metadata": {},
   "source": [
    "Create a function that takes a string as input and capitalizes a letter if its ASCII code is even\n",
    "and returns its lower case version if its ASCII code is odd."
   ]
  },
  {
   "cell_type": "code",
   "execution_count": null,
   "metadata": {},
   "outputs": [],
   "source": [
    "def capitalize_even_ascii(string):\n",
    "    capitalized_string = \"\"\n",
    "    \n",
    "    for char in string:\n",
    "        ascii_code = ord(char)\n",
    "        \n",
    "        if ascii_code % 2 == 0:\n",
    "            capitalized_string += char.upper()\n",
    "        else:\n",
    "            capitalized_string += char.lower()\n",
    "    \n",
    "    return capitalized_string\n"
   ]
  }
 ],
 "metadata": {
  "language_info": {
   "name": "python"
  },
  "orig_nbformat": 4
 },
 "nbformat": 4,
 "nbformat_minor": 2
}
