{
 "cells": [
  {
   "attachments": {},
   "cell_type": "markdown",
   "metadata": {},
   "source": [
    "Create a function that takes three arguments a, b, c and returns the sum of the\n",
    "numbers that are evenly divided by c from the range a, b inclusive."
   ]
  },
  {
   "cell_type": "code",
   "execution_count": null,
   "metadata": {},
   "outputs": [],
   "source": [
    "def sum_evenly_divisible(a, b, c):\n",
    "    sum_divisible = 0\n",
    "    for num in range(a, b + 1):\n",
    "        if num % c == 0:\n",
    "            sum_divisible += num\n",
    "    return sum_divisible\n",
    "\n",
    "# Example usage:\n",
    "a = 10\n",
    "b = 30\n",
    "c = 5\n",
    "result = sum_evenly_divisible(a, b, c)\n",
    "print(result)\n"
   ]
  },
  {
   "attachments": {},
   "cell_type": "markdown",
   "metadata": {},
   "source": [
    "Question2. Create a function that returns True if a given inequality expression is correct and\n",
    "False otherwise."
   ]
  },
  {
   "cell_type": "code",
   "execution_count": null,
   "metadata": {},
   "outputs": [],
   "source": [
    "def evaluate_inequality(expression):\n",
    "    try:\n",
    "        result = eval(expression)\n",
    "        return bool(result)\n",
    "    except:\n",
    "        return False\n",
    "\n",
    "# Example usage:\n",
    "expression = \"5 > 3\"\n",
    "result = evaluate_inequality(expression)\n",
    "print(result)\n"
   ]
  },
  {
   "attachments": {},
   "cell_type": "markdown",
   "metadata": {},
   "source": [
    "Question3. Create a function that replaces all the vowels in a string with a specified character."
   ]
  },
  {
   "cell_type": "code",
   "execution_count": null,
   "metadata": {},
   "outputs": [],
   "source": [
    "def replace_vowels(string, replacement_char):\n",
    "    vowels = 'aeiouAEIOU'\n",
    "    for vowel in vowels:\n",
    "        string = string.replace(vowel, replacement_char)\n",
    "    return string\n",
    "\n",
    "# Example usage:\n",
    "string = \"Hello, World!\"\n",
    "replacement_char = \"*\"\n",
    "result = replace_vowels(string, replacement_char)\n",
    "print(result)\n"
   ]
  },
  {
   "attachments": {},
   "cell_type": "markdown",
   "metadata": {},
   "source": [
    "Write a function that calculates the factorial of a number recursively."
   ]
  },
  {
   "cell_type": "code",
   "execution_count": null,
   "metadata": {},
   "outputs": [],
   "source": [
    "def factorial_recursive(n):\n",
    "    # Base case: factorial of 0 is 1\n",
    "    if n == 0:\n",
    "        return 1\n",
    "\n",
    "    # Recursive case: multiply n by the factorial of (n-1)\n",
    "    return n * factorial_recursive(n - 1)\n",
    "\n",
    "# Example usage:\n",
    "number = 5\n",
    "factorial = factorial_recursive(number)\n",
    "print(factorial)\n"
   ]
  },
  {
   "attachments": {},
   "cell_type": "markdown",
   "metadata": {},
   "source": [
    "Hamming distance is the number of characters that differ between two strings.\n",
    "To illustrate:\n",
    "String1: &quot;abcbba&quot;\n",
    "String2: &quot;abcbda&quot;\n",
    "Hamming Distance: 1 - &quot;b&quot; vs. &quot;d&quot; is the only difference.\n",
    "Create a function that computes the hamming distance between two strings."
   ]
  },
  {
   "cell_type": "code",
   "execution_count": null,
   "metadata": {},
   "outputs": [],
   "source": [
    "def hamming_distance(string1, string2):\n",
    "    if len(string1) != len(string2):\n",
    "        raise ValueError(\"Strings must have equal length\")\n",
    "\n",
    "    distance = 0\n",
    "    for char1, char2 in zip(string1, string2):\n",
    "        if char1 != char2:\n",
    "            distance += 1\n",
    "\n",
    "    return distance\n",
    "\n",
    "# Example usage:\n",
    "string1 = \"abcbba\"\n",
    "string2 = \"abcbda\"\n",
    "distance = hamming_distance(string1, string2)\n",
    "print(distance)\n"
   ]
  },
  {
   "cell_type": "markdown",
   "metadata": {},
   "source": []
  },
  {
   "cell_type": "code",
   "execution_count": null,
   "metadata": {},
   "outputs": [],
   "source": []
  }
 ],
 "metadata": {
  "language_info": {
   "name": "python"
  },
  "orig_nbformat": 4
 },
 "nbformat": 4,
 "nbformat_minor": 2
}
