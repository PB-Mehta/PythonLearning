{
 "cells": [
  {
   "cell_type": "code",
   "execution_count": 4,
   "metadata": {},
   "outputs": [
    {
     "name": "stdout",
     "output_type": "stream",
     "text": [
      "miles equivalent is  1.2430080795525171\n"
     ]
    }
   ],
   "source": [
    "##Write a Python program to convert kilometers to miles?\n",
    "a=float(input(\"enter kms\"))\n",
    "print(\"miles equivalent is \",float(a/1.609))"
   ]
  },
  {
   "cell_type": "code",
   "execution_count": 6,
   "metadata": {},
   "outputs": [
    {
     "name": "stdout",
     "output_type": "stream",
     "text": [
      "Fahrenheit degree is  33.8 F\n"
     ]
    }
   ],
   "source": [
    "##2. Write a Python program to convert Celsius to Fahrenheit?\n",
    "a=int(input(\"enter celsius degree\"))\n",
    "print(\"Fahrenheit degree is \",(a*9/5)+32,\"F\")\n",
    "\n"
   ]
  },
  {
   "cell_type": "code",
   "execution_count": null,
   "metadata": {},
   "outputs": [],
   "source": [
    "##Write a Python program to display calendar?\n",
    "\n",
    "import calendar\n",
    "\n",
    "# Prompt user for year and month\n",
    "year = int(input(\"Enter the year: \"))\n",
    "month = int(input(\"Enter the month: \"))\n",
    "\n",
    "# Create a calendar for the specified year and month\n",
    "cal = calendar.monthcalendar(year, month)\n",
    "\n",
    "# Print the calendar\n",
    "print(calendar.month_name[month], year)\n",
    "print(\"Mon  Tue  Wed  Thu  Fri  Sat  Sun\")\n",
    "for week in cal:\n",
    "    for day in week:\n",
    "        if day == 0:\n",
    "            print(\"     \", end=\"\")\n",
    "        else:\n",
    "            print(str(day).rjust(2), \" \", end=\"\")\n",
    "    print()\n"
   ]
  },
  {
   "cell_type": "code",
   "execution_count": null,
   "metadata": {},
   "outputs": [],
   "source": [
    "##Write a Python program to solve quadratic equation?\n",
    "import cmath\n",
    "\n",
    "# Prompt user for coefficients\n",
    "a = float(input(\"Enter coefficient a: \"))\n",
    "b = float(input(\"Enter coefficient b: \"))\n",
    "c = float(input(\"Enter coefficient c: \"))\n",
    "\n",
    "# Calculate the discriminant\n",
    "discriminant = (b ** 2) - (4 * a * c)\n",
    "\n",
    "# Calculate the solutions\n",
    "solution1 = (-b + cmath.sqrt(discriminant)) / (2 * a)\n",
    "solution2 = (-b - cmath.sqrt(discriminant)) / (2 * a)\n",
    "\n",
    "# Print the solutions\n",
    "print(\"The solutions are:\")\n",
    "print(\"x1 =\", solution1)\n",
    "print(\"x2 =\", solution2)\n"
   ]
  },
  {
   "cell_type": "code",
   "execution_count": null,
   "metadata": {},
   "outputs": [],
   "source": [
    "##Write a Python program to swap two variables without temp variable?\n",
    "# Prompt user for input\n",
    "a = int(input(\"Enter the value of variable a: \"))\n",
    "b = int(input(\"Enter the value of variable b: \"))\n",
    "\n",
    "# Display the initial values\n",
    "print(\"Before swapping:\")\n",
    "print(\"a =\", a)\n",
    "print(\"b =\", b)\n",
    "\n",
    "# Swap the values\n",
    "a, b = b, a\n",
    "\n",
    "# Display the swapped values\n",
    "print(\"After swapping:\")\n",
    "print(\"a =\", a)\n",
    "print(\"b =\", b)\n"
   ]
  }
 ],
 "metadata": {
  "kernelspec": {
   "display_name": "base",
   "language": "python",
   "name": "python3"
  },
  "language_info": {
   "codemirror_mode": {
    "name": "ipython",
    "version": 3
   },
   "file_extension": ".py",
   "mimetype": "text/x-python",
   "name": "python",
   "nbconvert_exporter": "python",
   "pygments_lexer": "ipython3",
   "version": "3.10.9"
  },
  "orig_nbformat": 4
 },
 "nbformat": 4,
 "nbformat_minor": 2
}
