{
 "cells": [
  {
   "attachments": {},
   "cell_type": "markdown",
   "metadata": {},
   "source": [
    "Question 1:\n",
    "Write a program that calculates and prints the value according to the given formula:\n",
    "Q = Square root of [(2 * C * D)/H]\n",
    "Following are the fixed values of C and H:\n",
    "C is 50. H is 30.\n",
    "D is the variable whose values should be input to your program in a comma-separated\n",
    "sequence."
   ]
  },
  {
   "cell_type": "code",
   "execution_count": null,
   "metadata": {},
   "outputs": [],
   "source": [
    "import math\n",
    "\n",
    "C = 50\n",
    "H = 30\n",
    "\n",
    "def calculate_value(sequence):\n",
    "    result = []\n",
    "    numbers = sequence.split(\",\")\n",
    "    for D in numbers:\n",
    "        Q = math.sqrt((2 * C * int(D)) / H)\n",
    "        result.append(str(round(Q)))\n",
    "    return \",\".join(result)\n",
    "\n",
    "input_sequence = input(\"Enter the sequence of numbers (comma-separated): \")\n",
    "output = calculate_value(input_sequence)\n",
    "print(\"Result:\", output)\n"
   ]
  },
  {
   "attachments": {},
   "cell_type": "markdown",
   "metadata": {},
   "source": [
    "Question 2:\n",
    "Write a program which takes 2 digits, X,Y as input and generates a 2-dimensional array. The\n",
    "element value in the i-th row and j-th column of the array should be i*j.\n",
    "Note: i=0,1.., X-1; j=0,1,¡Y-1.\n",
    "Example\n",
    "Suppose the following inputs are given to the program:\n",
    "3,5\n",
    "Then, the output of the program should be:\n",
    "[[0, 0, 0, 0, 0], [0, 1, 2, 3, 4], [0, 2, 4, 6, 8]]"
   ]
  },
  {
   "cell_type": "code",
   "execution_count": null,
   "metadata": {},
   "outputs": [],
   "source": [
    "def generate_2d_array(X, Y):\n",
    "    array = []\n",
    "    for i in range(X):\n",
    "        row = []\n",
    "        for j in range(Y):\n",
    "            row.append(i * j)\n",
    "        array.append(row)\n",
    "    return array\n",
    "\n",
    "# Get input from the user\n",
    "X, Y = map(int, input(\"Enter two digits (comma-separated): \").split(\",\"))\n",
    "\n",
    "# Generate the 2-dimensional array\n",
    "result_array = generate_2d_array(X, Y)\n",
    "\n",
    "# Print the result\n",
    "print(result_array)\n"
   ]
  },
  {
   "attachments": {},
   "cell_type": "markdown",
   "metadata": {},
   "source": [
    "Question 3:\n",
    "Write a program that accepts a comma separated sequence of words as input and prints the\n",
    "words in a comma-separated sequence after sorting them alphabetically.\n",
    "Suppose the following input is supplied to the program:\n",
    "without,hello,bag,world\n",
    "Then, the output should be:\n",
    "bag,hello,without,world"
   ]
  },
  {
   "cell_type": "code",
   "execution_count": null,
   "metadata": {},
   "outputs": [],
   "source": [
    "def sort_words(sequence):\n",
    "    words = sequence.split(\",\")\n",
    "    sorted_words = sorted(words)\n",
    "    return \",\".join(sorted_words)\n",
    "\n",
    "# Get input from the user\n",
    "input_sequence = input(\"Enter a comma-separated sequence of words: \")\n",
    "\n",
    "# Sort the words and print the result\n",
    "sorted_sequence = sort_words(input_sequence)\n",
    "print(\"Sorted sequence:\", sorted_sequence)\n"
   ]
  },
  {
   "attachments": {},
   "cell_type": "markdown",
   "metadata": {},
   "source": [
    "Question 4:\n",
    "Write a program that accepts a sequence of whitespace separated words as input and prints\n",
    "the words after removing all duplicate words and sorting them alphanumerically.\n",
    "Suppose the following input is supplied to the program:\n",
    "hello world and practice makes perfect and hello world again\n",
    "Then, the output should be:\n",
    "again and hello makes perfect practice world"
   ]
  },
  {
   "cell_type": "code",
   "execution_count": null,
   "metadata": {},
   "outputs": [],
   "source": [
    "def remove_duplicates_and_sort(sequence):\n",
    "    words = sequence.split()\n",
    "    unique_words = sorted(set(words))\n",
    "    return \" \".join(unique_words)\n",
    "\n",
    "# Get input from the user\n",
    "input_sequence = input(\"Enter a sequence of whitespace-separated words: \")\n",
    "\n",
    "# Remove duplicates, sort the words, and print the result\n",
    "sorted_words = remove_duplicates_and_sort(input_sequence)\n",
    "print(\"Sorted words:\", sorted_words)\n"
   ]
  },
  {
   "attachments": {},
   "cell_type": "markdown",
   "metadata": {},
   "source": [
    "Question 5:\n",
    "Write a program that accepts a sentence and calculate the number of letters and digits.\n",
    "Suppose the following input is supplied to the program:\n",
    "hello world! 123\n",
    "Then, the output should be:\n",
    "LETTERS 10"
   ]
  },
  {
   "cell_type": "code",
   "execution_count": null,
   "metadata": {},
   "outputs": [],
   "source": [
    "def count_letters_and_digits(sentence):\n",
    "    letters = 0\n",
    "    digits = 0\n",
    "    for char in sentence:\n",
    "        if char.isalpha():\n",
    "            letters += 1\n",
    "        elif char.isdigit():\n",
    "            digits += 1\n",
    "    return letters\n",
    "\n",
    "# Get input from the user\n",
    "input_sentence = input(\"Enter a sentence: \")\n",
    "\n",
    "# Count the number of letters and digits in the sentence\n",
    "letter_count = count_letters_and_digits(input_sentence)\n",
    "\n",
    "# Print the result\n",
    "print(\"LETTERS:\", letter_count)\n"
   ]
  },
  {
   "attachments": {},
   "cell_type": "markdown",
   "metadata": {},
   "source": [
    "Question 6:\n",
    "A website requires the users to input username and password to register. Write a program to\n",
    "check the validity of password input by users.\n",
    "Following are the criteria for checking the password:\n",
    "1. At least 1 letter between [a-z]\n",
    "2. At least 1 number between [0-9]\n",
    "1. At least 1 letter between [A-Z]\n",
    "3. At least 1 character from [$#@]\n",
    "4. Minimum length of transaction password: 6\n",
    "5. Maximum length of transaction password: 12"
   ]
  },
  {
   "cell_type": "code",
   "execution_count": null,
   "metadata": {},
   "outputs": [],
   "source": [
    "import re\n",
    "\n",
    "def check_password_validity(password):\n",
    "    if len(password) < 6 or len(password) > 12:\n",
    "        return False\n",
    "    if not re.search(\"[a-z]\", password):\n",
    "        return False\n",
    "    if not re.search(\"[A-Z]\", password):\n",
    "        return False\n",
    "    if not re.search(\"[0-9]\", password):\n",
    "        return False\n",
    "    if not re.search(\"[$#@]\", password):\n",
    "        return False\n",
    "    return True\n",
    "\n",
    "# Get password input from the user\n",
    "password_input = input(\"Enter a password: \")\n",
    "\n",
    "# Check the validity of the password\n",
    "is_valid = check_password_validity(password_input)\n",
    "\n",
    "# Print the result\n",
    "if is_valid:\n",
    "    print(\"Password is valid.\")\n",
    "else:\n",
    "    print(\"Password is not valid.\")\n"
   ]
  }
 ],
 "metadata": {
  "language_info": {
   "name": "python"
  },
  "orig_nbformat": 4
 },
 "nbformat": 4,
 "nbformat_minor": 2
}
