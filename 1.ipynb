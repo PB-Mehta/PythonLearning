{
 "cells": [
  {
   "cell_type": "code",
   "execution_count": 1,
   "metadata": {},
   "outputs": [
    {
     "name": "stdout",
     "output_type": "stream",
     "text": [
      "hello python\n"
     ]
    }
   ],
   "source": [
    "##Write a Python program to print \"Hello Python\"\"?\n",
    "print(\"hello python\")"
   ]
  },
  {
   "cell_type": "code",
   "execution_count": 2,
   "metadata": {},
   "outputs": [
    {
     "name": "stdout",
     "output_type": "stream",
     "text": [
      "addition of numbers 24 division of numbers 1.0\n"
     ]
    }
   ],
   "source": [
    "##Write a Python program to do arithmetical operations addition and division.?\n",
    "a=int(input(\"enter a number\"))\n",
    "b=int(input(\"enter another number\"))\n",
    "print(\"addition of numbers\",a+b,\"division of numbers\",a/b)"
   ]
  },
  {
   "cell_type": "code",
   "execution_count": 3,
   "metadata": {},
   "outputs": [
    {
     "name": "stdout",
     "output_type": "stream",
     "text": [
      "area of the triangle is : 72.0\n"
     ]
    }
   ],
   "source": [
    "##3. Write a Python program to find the area of a triangle?\n",
    "a=int (input(\"enter height of the triangle\"))\n",
    "b=int(input(\"enter base of the triangle\"))\n",
    "area=0.5*a*b\n",
    "print(\"area of the triangle is :\",area)"
   ]
  },
  {
   "cell_type": "code",
   "execution_count": 5,
   "metadata": {},
   "outputs": [
    {
     "name": "stdout",
     "output_type": "stream",
     "text": [
      "your first variable is : c your second variable is: r\n"
     ]
    }
   ],
   "source": [
    "##Write a Python program to swap two variables?\n",
    "a=input(\"enter first variable:\")\n",
    "b=input (\"enter second variable:\")\n",
    "c=a\n",
    "a=b\n",
    "b=c\n",
    "print(\"your first variable is :\",a,\"your second variable is:\",b)\n"
   ]
  },
  {
   "cell_type": "code",
   "execution_count": 11,
   "metadata": {},
   "outputs": [
    {
     "name": "stdout",
     "output_type": "stream",
     "text": [
      "35\n"
     ]
    }
   ],
   "source": [
    "##Write a Python program to generate a random number?\n",
    "import random\n",
    "print(random.randint(0,100))"
   ]
  },
  {
   "cell_type": "code",
   "execution_count": null,
   "metadata": {},
   "outputs": [],
   "source": []
  }
 ],
 "metadata": {
  "kernelspec": {
   "display_name": "base",
   "language": "python",
   "name": "python3"
  },
  "language_info": {
   "codemirror_mode": {
    "name": "ipython",
    "version": 3
   },
   "file_extension": ".py",
   "mimetype": "text/x-python",
   "name": "python",
   "nbconvert_exporter": "python",
   "pygments_lexer": "ipython3",
   "version": "3.10.9"
  },
  "orig_nbformat": 4
 },
 "nbformat": 4,
 "nbformat_minor": 2
}
