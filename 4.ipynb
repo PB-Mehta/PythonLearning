{
 "cells": [
  {
   "attachments": {},
   "cell_type": "markdown",
   "metadata": {},
   "source": [
    "1. Write a Python Program to Find the Factorial of a Number?\n",
    "2. Write a Python Program to Display the multiplication Table?\n",
    "3. Write a Python Program to Print the Fibonacci sequence?\n",
    "4. Write a Python Program to Check Armstrong Number?\n",
    "5. Write a Python Program to Find Armstrong Number in an Interval?\n",
    "6. Write a Python Program to Find the Sum of Natural Numbers?"
   ]
  },
  {
   "cell_type": "code",
   "execution_count": null,
   "metadata": {},
   "outputs": [],
   "source": [
    "##1\n",
    "# Prompt user for input\n",
    "number = int(input(\"Enter a number: \"))\n",
    "\n",
    "# Initialize factorial as 1\n",
    "factorial = 1\n",
    "\n",
    "# Calculate factorial\n",
    "if number < 0:\n",
    "    print(\"Factorial is not defined for negative numbers.\")\n",
    "elif number == 0:\n",
    "    print(\"The factorial of 0 is 1.\")\n",
    "else:\n",
    "    for i in range(1, number + 1):\n",
    "        factorial *= i\n",
    "    print(\"The factorial of\", number, \"is\", factorial)\n"
   ]
  },
  {
   "cell_type": "code",
   "execution_count": null,
   "metadata": {},
   "outputs": [],
   "source": [
    "##2\n",
    "# Prompt user for input\n",
    "number = int(input(\"Enter a number: \"))\n",
    "\n",
    "# Display the multiplication table\n",
    "print(\"Multiplication Table of\", number)\n",
    "for i in range(1, 11):\n",
    "    print(number, \"x\", i, \"=\", number * i)\n"
   ]
  },
  {
   "cell_type": "code",
   "execution_count": null,
   "metadata": {},
   "outputs": [],
   "source": [
    "##3\n",
    "# Prompt user for input\n",
    "terms = int(input(\"Enter the number of terms: \"))\n",
    "\n",
    "# Initialize the first two terms\n",
    "num1, num2 = 0, 1\n",
    "\n",
    "# Print the Fibonacci sequence\n",
    "print(\"Fibonacci Sequence:\")\n",
    "for _ in range(terms):\n",
    "    print(num1, end=\" \")\n",
    "    num1, num2 = num2, num1 + num2\n"
   ]
  },
  {
   "cell_type": "code",
   "execution_count": null,
   "metadata": {},
   "outputs": [],
   "source": [
    "##4\n",
    "# Prompt user for input\n",
    "number = int(input(\"Enter a number: \"))\n",
    "\n",
    "# Convert the number to a string to calculate the length\n",
    "num_str = str(number)\n",
    "num_len = len(num_str)\n",
    "\n",
    "# Calculate the sum of cubes of digits\n",
    "sum = 0\n",
    "for digit in num_str:\n",
    "    sum += int(digit) ** num_len\n",
    "\n",
    "# Check if it is an Armstrong number\n",
    "if sum == number:\n",
    "    print(number, \"is an Armstrong number.\")\n",
    "else:\n",
    "    print(number, \"is not an Armstrong number.\")\n"
   ]
  },
  {
   "cell_type": "code",
   "execution_count": null,
   "metadata": {},
   "outputs": [],
   "source": [
    "##5\n",
    "# Prompt user for input\n",
    "start = int(input(\"Enter the starting number: \"))\n",
    "end = int(input(\"Enter the ending number: \"))\n",
    "\n",
    "print(\"Armstrong numbers between\", start, \"and\", end, \"are:\")\n",
    "for number in range(start, end + 1):\n",
    "    num_str = str(number)\n",
    "    num_len = len(num_str)\n",
    "    sum = 0\n",
    "    for digit in num_str:\n",
    "        sum += int(digit) ** num_len\n",
    "    if sum == number:\n",
    "        print(number)\n"
   ]
  },
  {
   "cell_type": "code",
   "execution_count": null,
   "metadata": {},
   "outputs": [],
   "source": [
    "##6\n",
    "# Prompt user for input\n",
    "number = int(input(\"Enter a positive integer: \"))\n",
    "\n",
    "# Calculate the sum of natural numbers\n",
    "sum = 0\n",
    "if number < 0:\n",
    "    print(\"Enter a positive integer.\")\n",
    "else:\n",
    "    for i in range(1, number + 1):\n",
    "        sum += i\n",
    "    print(\"The sum of natural numbers up to\", number, \"is\", sum)\n"
   ]
  }
 ],
 "metadata": {
  "kernelspec": {
   "display_name": "base",
   "language": "python",
   "name": "python3"
  },
  "language_info": {
   "name": "python",
   "version": "3.10.9"
  },
  "orig_nbformat": 4
 },
 "nbformat": 4,
 "nbformat_minor": 2
}
