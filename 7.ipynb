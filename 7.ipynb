{
 "cells": [
  {
   "attachments": {},
   "cell_type": "markdown",
   "metadata": {},
   "source": [
    "1. Write a Python Program to find sum of array?\n",
    "2. Write a Python Program to find largest element in an array?\n",
    "3. Write a Python Program for array rotation?\n",
    "4. Write a Python Program to Split the array and add the first part to the end?\n",
    "5. Write a Python Program to check if given array is Monotonic?"
   ]
  },
  {
   "cell_type": "code",
   "execution_count": null,
   "metadata": {},
   "outputs": [],
   "source": [
    "##1\n",
    "# Function to find the sum of an array\n",
    "def find_sum(arr):\n",
    "    return sum(arr)\n",
    "\n",
    "# Prompt user for input\n",
    "elements = input(\"Enter the elements of the array (space-separated): \").split()\n",
    "array = [int(element) for element in elements]\n",
    "\n",
    "# Find the sum of the array\n",
    "sum_of_array = find_sum(array)\n",
    "print(\"The sum of the array is:\", sum_of_array)\n"
   ]
  },
  {
   "cell_type": "code",
   "execution_count": null,
   "metadata": {},
   "outputs": [],
   "source": [
    "##2\n",
    "# Function to find the largest element in an array\n",
    "def find_largest(arr):\n",
    "    return max(arr)\n",
    "\n",
    "# Prompt user for input\n",
    "elements = input(\"Enter the elements of the array (space-separated): \").split()\n",
    "array = [int(element) for element in elements]\n",
    "\n",
    "# Find the largest element in the array\n",
    "largest_element = find_largest(array)\n",
    "print(\"The largest element in the array is:\", largest_element)\n"
   ]
  },
  {
   "cell_type": "code",
   "execution_count": null,
   "metadata": {},
   "outputs": [],
   "source": [
    "##3\n",
    "# Function to rotate the array by 'd' elements\n",
    "def rotate_array(arr, d):\n",
    "    n = len(arr)\n",
    "    rotated_array = arr[d:] + arr[:d]\n",
    "    return rotated_array\n",
    "\n",
    "# Prompt user for input\n",
    "elements = input(\"Enter the elements of the array (space-separated): \").split()\n",
    "array = [int(element) for element in elements]\n",
    "rotation = int(input(\"Enter the number of rotations: \"))\n",
    "\n",
    "# Rotate the array\n",
    "rotated_array = rotate_array(array, rotation)\n",
    "print(\"The rotated array is:\", rotated_array)\n"
   ]
  },
  {
   "cell_type": "code",
   "execution_count": null,
   "metadata": {},
   "outputs": [],
   "source": [
    "##4\n",
    "# Function to split the array and add the first part to the end\n",
    "def split_and_add(arr, n):\n",
    "    return arr[n:] + arr[:n]\n",
    "\n",
    "# Prompt user for input\n",
    "elements = input(\"Enter the elements of the array (space-separated): \").split()\n",
    "array = [int(element) for element in elements]\n",
    "split_index = int(input(\"Enter the split index: \"))\n",
    "\n",
    "# Split the array and add the first part to the end\n",
    "result_array = split_and_add(array, split_index)\n",
    "print(\"The resulting array is:\", result_array)\n"
   ]
  },
  {
   "cell_type": "code",
   "execution_count": null,
   "metadata": {},
   "outputs": [],
   "source": [
    "##5\n",
    "# Function to check if an array is monotonic\n",
    "def is_monotonic(arr):\n",
    "    increasing = decreasing = True\n",
    "\n",
    "    for i in range(len(arr) - 1):\n",
    "        if arr[i] > arr[i + 1]:\n",
    "            increasing = False\n",
    "        if arr[i] < arr[i + 1]:\n",
    "            decreasing = False\n",
    "\n",
    "    return increasing or decreasing\n",
    "\n",
    "# Prompt user for input\n",
    "elements = input(\"Enter the elements of the array (space-separated): \").split()\n",
    "array = [int(element) for element in elements]\n",
    "\n",
    "# Check if the array is monotonic\n",
    "if is_monotonic(array):\n",
    "    print(\"The array is monotonic.\")\n",
    "else:\n",
    "    print(\"The array is not monotonic.\")\n"
   ]
  }
 ],
 "metadata": {
  "language_info": {
   "name": "python"
  },
  "orig_nbformat": 4
 },
 "nbformat": 4,
 "nbformat_minor": 2
}
