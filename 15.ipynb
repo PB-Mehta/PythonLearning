{
 "cells": [
  {
   "attachments": {},
   "cell_type": "markdown",
   "metadata": {},
   "source": [
    "Please write a program using generator to print the numbers which can be divisible by 5 and\n",
    "7 between 0 and n in comma separated form while n is input by console.\n",
    "Example:\n",
    "If the following n is given as input to the program:\n",
    "100\n",
    "Then, the output of the program should be:\n",
    "0,35,70"
   ]
  },
  {
   "cell_type": "code",
   "execution_count": null,
   "metadata": {},
   "outputs": [],
   "source": [
    "def divisible_by_5_and_7(n):\n",
    "    for num in range(n + 1):\n",
    "        if num % 5 == 0 and num % 7 == 0:\n",
    "            yield num\n",
    "\n",
    "# Get input from the user\n",
    "n = int(input(\"Enter a number: \"))\n",
    "\n",
    "# Generate numbers divisible by 5 and 7 using the generator\n",
    "result = list(divisible_by_5_and_7(n))\n",
    "\n",
    "# Print the numbers in a comma-separated form\n",
    "output = \",\".join(map(str, result))\n",
    "print(output)\n"
   ]
  },
  {
   "attachments": {},
   "cell_type": "markdown",
   "metadata": {},
   "source": [
    "Please write a program using generator to print the even numbers between 0 and n in comma\n",
    "separated form while n is input by console.\n",
    "Example:\n",
    "If the following n is given as input to the program:\n",
    "10\n",
    "Then, the output of the program should be:\n",
    "0,2,4,6,8,10"
   ]
  },
  {
   "cell_type": "code",
   "execution_count": null,
   "metadata": {},
   "outputs": [],
   "source": [
    "def even_numbers(n):\n",
    "    for num in range(n + 1):\n",
    "        if num % 2 == 0:\n",
    "            yield num\n",
    "\n",
    "# Get input from the user\n",
    "n = int(input(\"Enter a number: \"))\n",
    "\n",
    "# Generate even numbers using the generator\n",
    "result = list(even_numbers(n))\n",
    "\n",
    "# Print the numbers in a comma-separated form\n",
    "output = \",\".join(map(str, result))\n",
    "print(output)\n"
   ]
  },
  {
   "attachments": {},
   "cell_type": "markdown",
   "metadata": {},
   "source": [
    "The Fibonacci Sequence is computed based on the following formula:\n",
    "f(n)=0 if n=0\n",
    "f(n)=1 if n=1\n",
    "f(n)=f(n-1)+f(n-2) if n&gt;1\n",
    "Please write a program using list comprehension to print the Fibonacci Sequence in comma\n",
    "separated form with a given n input by console."
   ]
  },
  {
   "cell_type": "code",
   "execution_count": null,
   "metadata": {},
   "outputs": [],
   "source": [
    "def fibonacci_sequence(n):\n",
    "    sequence = [0, 1]  # Initialize the sequence with the first two numbers\n",
    "\n",
    "    if n <= 1:\n",
    "        return sequence[:n + 1]  # Return the sequence up to n if n is 0 or 1\n",
    "\n",
    "    for i in range(2, n + 1):\n",
    "        sequence.append(sequence[i - 1] + sequence[i - 2])\n",
    "\n",
    "    return sequence\n",
    "\n",
    "# Get input from the user\n",
    "n = int(input(\"Enter a number: \"))\n",
    "\n",
    "# Generate the Fibonacci Sequence using list comprehension\n",
    "fibonacci_sequence_list = fibonacci_sequence(n)\n",
    "\n",
    "# Print the sequence in a comma-separated form\n",
    "output = \",\".join(map(str, fibonacci_sequence_list))\n",
    "print(output)\n"
   ]
  },
  {
   "attachments": {},
   "cell_type": "markdown",
   "metadata": {},
   "source": [
    "Question 4:\n",
    "Assuming that we have some email addresses in the &quot;username@companyname.com&quot; format,\n",
    "please write program to print the user name of a given email address. Both user names and\n",
    "company names are composed of letters only."
   ]
  },
  {
   "cell_type": "code",
   "execution_count": null,
   "metadata": {},
   "outputs": [],
   "source": [
    "def extract_username(email):\n",
    "    username = email.split(\"@\")[0]\n",
    "    return username\n",
    "\n",
    "# Get input from the user\n",
    "email_address = input(\"Enter an email address: \")\n",
    "\n",
    "# Extract the username from the email address\n",
    "username = extract_username(email_address)\n",
    "\n",
    "# Print the username\n",
    "print(\"Username:\", username)\n"
   ]
  },
  {
   "attachments": {},
   "cell_type": "markdown",
   "metadata": {},
   "source": [
    "Question 5:\n",
    "Define a class named Shape and its subclass Square. The Square class has an init function\n",
    "which takes a length as argument. Both classes have a area function which can print the area\n",
    "of the shape where Shape&#39;s area is 0 by default."
   ]
  },
  {
   "cell_type": "code",
   "execution_count": null,
   "metadata": {},
   "outputs": [],
   "source": [
    "class Shape:\n",
    "    def __init__(self):\n",
    "        self.area = 0\n",
    "\n",
    "    def calculate_area(self):\n",
    "        print(\"Area of Shape:\", self.area)\n",
    "\n",
    "\n",
    "class Square(Shape):\n",
    "    def __init__(self, length):\n",
    "        super().__init__()\n",
    "        self.length = length\n",
    "\n",
    "    def calculate_area(self):\n",
    "        self.area = self.length ** 2\n",
    "        print(\"Area of Square:\", self.area)\n",
    "\n",
    "\n",
    "# Create instances of Shape and Square classes\n",
    "shape = Shape()\n",
    "square = Square(5)\n",
    "\n",
    "# Calculate and print the areas\n",
    "shape.calculate_area()\n",
    "square.calculate_area()\n"
   ]
  }
 ],
 "metadata": {
  "language_info": {
   "name": "python"
  },
  "orig_nbformat": 4
 },
 "nbformat": 4,
 "nbformat_minor": 2
}
