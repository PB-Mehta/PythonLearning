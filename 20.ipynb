{
 "cells": [
  {
   "attachments": {},
   "cell_type": "markdown",
   "metadata": {},
   "source": [
    "Create a function that takes a list of strings and integers, and filters out the list so that it\n",
    "returns a list of integers only."
   ]
  },
  {
   "cell_type": "code",
   "execution_count": null,
   "metadata": {},
   "outputs": [],
   "source": [
    "def filter_integers(lst):\n",
    "    filtered_list = [x for x in lst if isinstance(x, int)]\n",
    "    return filtered_list\n"
   ]
  },
  {
   "attachments": {},
   "cell_type": "markdown",
   "metadata": {},
   "source": [
    "Question2\n",
    "Given a list of numbers, create a function which returns the list but with each element&#39;s\n",
    "index in the list added to itself. This means you add 0 to the number at index 0, add 1 to the\n",
    "number at index 1, etc..."
   ]
  },
  {
   "cell_type": "code",
   "execution_count": null,
   "metadata": {},
   "outputs": [],
   "source": [
    "def add_index_to_elements(lst):\n",
    "    result = [num + index for index, num in enumerate(lst)]\n",
    "    return result\n"
   ]
  },
  {
   "attachments": {},
   "cell_type": "markdown",
   "metadata": {},
   "source": [
    "\n",
    "Create a function that takes the height and radius of a cone as arguments and returns the\n",
    "volume of the cone rounded to the nearest hundredth. See the resources tab for the formula."
   ]
  },
  {
   "cell_type": "code",
   "execution_count": null,
   "metadata": {},
   "outputs": [],
   "source": [
    "import math\n",
    "\n",
    "def calculate_cone_volume(height, radius):\n",
    "    volume = (math.pi * radius**2 * height) / 3\n",
    "    rounded_volume = round(volume, 2)\n",
    "    return rounded_volume"
   ]
  },
  {
   "attachments": {},
   "cell_type": "markdown",
   "metadata": {},
   "source": [
    "This Triangular Number Sequence is generated from a pattern of dots that form a triangle.\n",
    "The first 5 numbers of the sequence, or dots, are:\n",
    "1, 3, 6, 10, 15\n",
    "This means that the first triangle has just one dot, the second one has three dots, the third one\n",
    "has 6 dots and so on.\n",
    "Write a function that gives the number of dots with its corresponding triangle number of the\n",
    "sequence."
   ]
  },
  {
   "cell_type": "code",
   "execution_count": null,
   "metadata": {},
   "outputs": [],
   "source": [
    "def triangular_number(n):\n",
    "    dots = (n * (n + 1)) // 2\n",
    "    return dots\n"
   ]
  },
  {
   "attachments": {},
   "cell_type": "markdown",
   "metadata": {},
   "source": [
    "Create a function that takes a list of numbers between 1 and 10 (excluding one number) and\n",
    "returns the missing number."
   ]
  },
  {
   "cell_type": "code",
   "execution_count": null,
   "metadata": {},
   "outputs": [],
   "source": [
    "def find_missing_number(numbers):\n",
    "    all_numbers = set(range(1, 11))\n",
    "    given_numbers = set(numbers)\n",
    "    missing_number = all_numbers - given_numbers\n",
    "    return list(missing_number)[0]\n"
   ]
  }
 ],
 "metadata": {
  "language_info": {
   "name": "python"
  },
  "orig_nbformat": 4
 },
 "nbformat": 4,
 "nbformat_minor": 2
}
