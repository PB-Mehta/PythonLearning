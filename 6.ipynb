{
 "cells": [
  {
   "attachments": {},
   "cell_type": "markdown",
   "metadata": {},
   "source": [
    "1. Write a Python Program to Display Fibonacci Sequence Using Recursion?\n",
    "2. Write a Python Program to Find Factorial of Number Using Recursion?\n",
    "3. Write a Python Program to calculate your Body Mass Index?\n",
    "4. Write a Python Program to calculate the natural logarithm of any number?\n",
    "5. Write a Python Program for cube sum of first n natural numbers?"
   ]
  },
  {
   "cell_type": "code",
   "execution_count": null,
   "metadata": {},
   "outputs": [],
   "source": [
    "##1\n",
    "def fibonacci(n):\n",
    "    if n <= 1:\n",
    "        return n\n",
    "    else:\n",
    "        return fibonacci(n - 1) + fibonacci(n - 2)\n",
    "\n",
    "# Prompt user for input\n",
    "terms = int(input(\"Enter the number of terms: \"))\n",
    "\n",
    "# Display the Fibonacci sequence using recursion\n",
    "print(\"Fibonacci Sequence:\")\n",
    "for i in range(terms):\n",
    "    print(fibonacci(i), end=\" \")\n"
   ]
  },
  {
   "cell_type": "code",
   "execution_count": null,
   "metadata": {},
   "outputs": [],
   "source": [
    "##2\n",
    "def factorial(n):\n",
    "    if n == 0:\n",
    "        return 1\n",
    "    else:\n",
    "        return n * factorial(n - 1)\n",
    "\n",
    "# Prompt user for input\n",
    "number = int(input(\"Enter a number: \"))\n",
    "\n",
    "# Calculate the factorial using recursion\n",
    "factorial_value = factorial(number)\n",
    "print(\"The factorial of\", number, \"is\", factorial_value)\n"
   ]
  },
  {
   "cell_type": "code",
   "execution_count": null,
   "metadata": {},
   "outputs": [],
   "source": [
    "##3\n",
    "# Prompt user for input\n",
    "weight = float(input(\"Enter your weight in kilograms: \"))\n",
    "height = float(input(\"Enter your height in meters: \"))\n",
    "\n",
    "# Calculate the BMI\n",
    "bmi = weight / (height ** 2)\n",
    "\n",
    "# Display the BMI\n",
    "print(\"Your Body Mass Index (BMI) is:\", round(bmi, 2))\n"
   ]
  },
  {
   "cell_type": "code",
   "execution_count": null,
   "metadata": {},
   "outputs": [],
   "source": [
    "##4\n",
    "import math\n",
    "\n",
    "# Prompt user for input\n",
    "number = float(input(\"Enter a number: \"))\n",
    "\n",
    "# Calculate the natural logarithm\n",
    "log_value = math.log(number)\n",
    "\n",
    "# Display the natural logarithm\n",
    "print(\"The natural logarithm of\", number, \"is\", log_value)\n"
   ]
  },
  {
   "cell_type": "code",
   "execution_count": null,
   "metadata": {},
   "outputs": [],
   "source": [
    "##5\n",
    "# Prompt user for input\n",
    "n = int(input(\"Enter the value of n: \"))\n",
    "\n",
    "# Calculate the cube sum of first n natural numbers\n",
    "sum_of_cubes = (n * (n + 1) // 2) ** 2\n",
    "\n",
    "# Display the cube sum\n",
    "print(\"The cube sum of the first\", n, \"natural numbers is\", sum_of_cubes)\n"
   ]
  }
 ],
 "metadata": {
  "language_info": {
   "name": "python"
  },
  "orig_nbformat": 4
 },
 "nbformat": 4,
 "nbformat_minor": 2
}
