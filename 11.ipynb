{
 "cells": [
  {
   "attachments": {},
   "cell_type": "markdown",
   "metadata": {},
   "source": [
    "1. Write a Python program to find words which are greater than given length k?\n",
    "2. Write a Python program for removing i-th character from a string?\n",
    "3. Write a Python program to split and join a string?\n",
    "4. Write a Python to check if a given string is binary string or not?\n",
    "5. Write a Python program to find uncommon words from two Strings?\n",
    "6. Write a Python to find all duplicate characters in string?\n",
    "7. Write a Python Program to check if a string contains any special character?"
   ]
  },
  {
   "cell_type": "code",
   "execution_count": null,
   "metadata": {},
   "outputs": [],
   "source": [
    "def findlength(string, k):\n",
    "    words = string.split()\n",
    "    result = [word for word in words if len(word) > k]\n",
    "    return result\n",
    "\n",
    "text = \"This is a sample text to find words greater than a given length.\"\n",
    "length = 5\n",
    "words_greater_than_length = findlength(text, length)\n",
    "print(f\"Words greater than length {length}:\", words_greater_than_length)\n"
   ]
  },
  {
   "cell_type": "code",
   "execution_count": null,
   "metadata": {},
   "outputs": [],
   "source": [
    "def character(string, i):\n",
    "    if i < 0 or i >= len(string):\n",
    "        return string\n",
    "    return string[:i] + string[i+1:]\n",
    "\n",
    "text = \"Hello, World!\"\n",
    "index = 7\n",
    "modified_text = character(text, index)\n",
    "print(\"Modified string:\", modified_text)\n"
   ]
  },
  {
   "cell_type": "code",
   "execution_count": null,
   "metadata": {},
   "outputs": [],
   "source": [
    "def split_and_join_string(string):\n",
    "    words = string.split()\n",
    "    joined_string = \"-\".join(words)\n",
    "    return joined_string\n",
    "\n",
    "text = \"This is a sample text\"\n",
    "split_and_joined = split_and_join_string(text)\n",
    "print(\"Split and joined string:\", split_and_joined)\n"
   ]
  },
  {
   "cell_type": "code",
   "execution_count": null,
   "metadata": {},
   "outputs": [],
   "source": [
    "def is_binary_string(string):\n",
    "    for char in string:\n",
    "        if char != '0' and char != '1':\n",
    "            return False\n",
    "    return True\n",
    "\n",
    "text = \"1010101\"\n",
    "is_binary = is_binary_string(text)\n",
    "if is_binary:\n",
    "    print(\"The string is a binary string.\")\n",
    "else:\n",
    "    print(\"The string is not a binary string.\")\n"
   ]
  },
  {
   "cell_type": "code",
   "execution_count": null,
   "metadata": {},
   "outputs": [],
   "source": [
    "def findwords(string1, string2):\n",
    "    words1 = set(string1.split())\n",
    "    words2 = set(string2.split())\n",
    "    uncommon_words = words1.symmetric_difference(words2)\n",
    "    return uncommon_words\n",
    "\n",
    "text1 = \"This is the first string\"\n",
    "text2 = \"This is the second string\"\n",
    "uncommon = findwords(text1, text2)\n",
    "print(\"Uncommon words:\", uncommon)\n"
   ]
  },
  {
   "cell_type": "code",
   "execution_count": null,
   "metadata": {},
   "outputs": [],
   "source": [
    "def duplicate_characters(string):\n",
    "    duplicates = []\n",
    "    for char in string:\n",
    "        if string.count(char) > 1 and char not in duplicates:\n",
    "            duplicates.append(char)\n",
    "    return duplicates\n",
    "\n",
    "text = \"Hello, World!\"\n",
    "duplicate_chars = duplicate_characters(text)\n",
    "print(\"Duplicate characters:\", duplicate_chars)\n"
   ]
  },
  {
   "cell_type": "code",
   "execution_count": null,
   "metadata": {},
   "outputs": [],
   "source": [
    "import re\n",
    "\n",
    "def contains_special_characters(string):\n",
    "    special_chars = re.compile('[@_!#$%^&*()<>?/\\|}{~:]')\n",
    "    if special_chars.search(string) is not None:\n",
    "        return True\n",
    "    return False\n",
    "\n",
    "text = \"Hello, World!\"\n",
    "has_special_chars = contains_special_characters(text)\n",
    "if has_special_chars:\n",
    "    print(\"The string contains special characters.\")\n",
    "else:\n",
    "    print(\"The string does not contain any special characters.\")\n"
   ]
  }
 ],
 "metadata": {
  "language_info": {
   "name": "python"
  },
  "orig_nbformat": 4
 },
 "nbformat": 4,
 "nbformat_minor": 2
}
